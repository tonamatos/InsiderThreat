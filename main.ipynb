{
 "cells": [
  {
   "cell_type": "code",
   "execution_count": null,
   "id": "655ff056",
   "metadata": {},
   "outputs": [],
   "source": [
    "from attack_correlation import *\n",
    "from data_loader import data_load_into_graph as load\n",
    "from utils import save_graph, load_graph\n",
    "\n",
    "G, data = load()\n",
    "# This is a bit pointless rn but works: save_graph(G, \"cached_graphs/data_graph.pkl\")\n",
    "# G = load_graph(\"cached_graphs/data_graph.pkl\")"
   ]
  },
  {
   "cell_type": "code",
   "execution_count": null,
   "id": "da789916",
   "metadata": {},
   "outputs": [],
   "source": [
    "#H = attack_correlation(G, data)\n",
    "\n",
    "#save_graph(H, \"cached_graphs/attack_correlation_graph.pkl\")\n",
    "H = load_graph(\"cached_graphs/attack_correlation_graph.pkl\")"
   ]
  },
  {
   "cell_type": "code",
   "execution_count": null,
   "id": "52a1ad63",
   "metadata": {},
   "outputs": [
    {
     "ename": "ValueError",
     "evalue": "min() arg is an empty sequence",
     "output_type": "error",
     "traceback": [
      "\u001b[1;31m---------------------------------------------------------------------------\u001b[0m",
      "\u001b[1;31mValueError\u001b[0m                                Traceback (most recent call last)",
      "Cell \u001b[1;32mIn[7], line 25\u001b[0m\n\u001b[0;32m     23\u001b[0m \u001b[38;5;66;03m# Edge widths scaled from weights\u001b[39;00m\n\u001b[0;32m     24\u001b[0m raw_weights \u001b[38;5;241m=\u001b[39m [d\u001b[38;5;241m.\u001b[39mget(\u001b[38;5;124m\"\u001b[39m\u001b[38;5;124mweight\u001b[39m\u001b[38;5;124m\"\u001b[39m, \u001b[38;5;241m0\u001b[39m) \u001b[38;5;28;01mfor\u001b[39;00m _, _, d \u001b[38;5;129;01min\u001b[39;00m H_sub\u001b[38;5;241m.\u001b[39medges(data\u001b[38;5;241m=\u001b[39m\u001b[38;5;28;01mTrue\u001b[39;00m)]\n\u001b[1;32m---> 25\u001b[0m min_w, max_w \u001b[38;5;241m=\u001b[39m \u001b[38;5;28;43mmin\u001b[39;49m\u001b[43m(\u001b[49m\u001b[43mraw_weights\u001b[49m\u001b[43m)\u001b[49m, \u001b[38;5;28mmax\u001b[39m(raw_weights)\n\u001b[0;32m     26\u001b[0m edge_weights \u001b[38;5;241m=\u001b[39m [\n\u001b[0;32m     27\u001b[0m   \u001b[38;5;241m2\u001b[39m \u001b[38;5;241m+\u001b[39m \u001b[38;5;241m5\u001b[39m \u001b[38;5;241m*\u001b[39m ((w \u001b[38;5;241m-\u001b[39m min_w) \u001b[38;5;241m/\u001b[39m (max_w \u001b[38;5;241m-\u001b[39m min_w)) \u001b[38;5;28;01mif\u001b[39;00m max_w \u001b[38;5;241m>\u001b[39m min_w \u001b[38;5;28;01melse\u001b[39;00m \u001b[38;5;241m5\u001b[39m\n\u001b[0;32m     28\u001b[0m   \u001b[38;5;28;01mfor\u001b[39;00m w \u001b[38;5;129;01min\u001b[39;00m raw_weights\n\u001b[0;32m     29\u001b[0m ]\n\u001b[0;32m     31\u001b[0m plt\u001b[38;5;241m.\u001b[39mfigure(figsize\u001b[38;5;241m=\u001b[39m(\u001b[38;5;241m12\u001b[39m, \u001b[38;5;241m8\u001b[39m))\n",
      "\u001b[1;31mValueError\u001b[0m: min() arg is an empty sequence"
     ]
    }
   ],
   "source": [
    "# Example of component (I broke this cell somehow and don't know how yet...)\n",
    "\n",
    "import matplotlib.pyplot as plt\n",
    "\n",
    "# Extract largest component\n",
    "largest_cc = list(nx.connected_components(H.to_undirected()))[123]\n",
    "H_sub = H.subgraph(largest_cc)\n",
    "\n",
    "# Get node severities and scale them (e.g., severity 1–10 becomes size 300–1000)\n",
    "node_severities = nx.get_node_attributes(H_sub, \"severity\")\n",
    "min_sev, max_sev = min(node_severities.values()), max(node_severities.values())\n",
    "node_sizes = [\n",
    "  30 + 1000 * ((node_severities[n] - min_sev) / (max_sev - min_sev)) if max_sev > min_sev else 500\n",
    "  for n in H_sub.nodes()\n",
    "]\n",
    "\n",
    "# Node labels: use event description\n",
    "node_labels = {\n",
    "    node: H_sub.nodes[node].get(\"description\", \"\") \n",
    "    for node in H_sub.nodes\n",
    "}\n",
    "\n",
    "# Edge widths scaled from weights\n",
    "raw_weights = [d.get(\"weight\", 0) for _, _, d in H_sub.edges(data=True)]\n",
    "min_w, max_w = min(raw_weights), max(raw_weights)\n",
    "edge_weights = [\n",
    "  2 + 5 * ((w - min_w) / (max_w - min_w)) if max_w > min_w else 5\n",
    "  for w in raw_weights\n",
    "]\n",
    "\n",
    "plt.figure(figsize=(12, 8))\n",
    "pos = nx.circular_layout(H_sub)\n",
    "\n",
    "nx.draw(\n",
    "    H_sub, pos,\n",
    "    labels=node_labels,\n",
    "    with_labels=True,\n",
    "    node_size=node_sizes,\n",
    "    node_color='lightblue',\n",
    "    edge_color='gray',\n",
    "    width=edge_weights\n",
    ")\n",
    "\n",
    "plt.show()"
   ]
  },
  {
   "cell_type": "code",
   "execution_count": 8,
   "id": "213d442d",
   "metadata": {},
   "outputs": [
    {
     "name": "stdout",
     "output_type": "stream",
     "text": [
      "{'Initial Access': array([0.06306674, 0.93693326]), 'Privilege Escalation': array([0.03369119, 0.96630881]), 'Collection': array([0.33029961, 0.66970039])}\n"
     ]
    }
   ],
   "source": [
    "from factor_graph import *\n",
    "\n",
    "alerts = data['events'][:3]\n",
    "fg = FactorGraph(alerts)\n",
    "\n",
    "m = Messages()\n",
    "# v = fg.variables[\"Collection\"]\n",
    "# print(m.marginal(v))\n",
    "# v = fg.variables[\"Credential Access\"]\n",
    "# print(m.marginal(v))\n",
    "print(m.marginals(fg))"
   ]
  }
 ],
 "metadata": {
  "kernelspec": {
   "display_name": ".venv",
   "language": "python",
   "name": "python3"
  },
  "language_info": {
   "codemirror_mode": {
    "name": "ipython",
    "version": 3
   },
   "file_extension": ".py",
   "mimetype": "text/x-python",
   "name": "python",
   "nbconvert_exporter": "python",
   "pygments_lexer": "ipython3",
   "version": "3.9.0"
  }
 },
 "nbformat": 4,
 "nbformat_minor": 5
}
